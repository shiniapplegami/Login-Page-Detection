{
 "cells": [
  {
   "cell_type": "code",
   "execution_count": 1,
   "metadata": {},
   "outputs": [],
   "source": [
    "from selenium import webdriver\n",
    "from selenium.webdriver.chrome.options import Options\n",
    "import time\n",
    "\n",
    "# Below is the location of web driver that is being used to take the screenshot.\n",
    "# If you are using any other OS, then download the correct drivers and set the correct location of that driver.\n",
    "chrome_driver_path = './Drivers/chromedriver'\n",
    "options = Options()\n",
    "options.add_argument(\"--headless\")\n",
    "options.add_argument('window-size=1200x600')\n",
    "\n",
    "# Function to get screenshots of the different web pages to generate our dataset.\n",
    "def get_screenshot(url, path):\n",
    "    browser = webdriver.Chrome(options=options, executable_path = chrome_driver_path)\n",
    "    browser.get(url)\n",
    "    # Add time delay to ensure the webpage page is loaded.\n",
    "    time.sleep(5)\n",
    "    browser.save_screenshot(path)\n",
    "    browser.quit()"
   ]
  },
  {
   "cell_type": "code",
   "execution_count": 2,
   "metadata": {},
   "outputs": [],
   "source": [
    "# Getting the screenshots of login pages.\n",
    "\n",
    "# File containing urls of all the pages that have login box.\n",
    "url_file = open('./Website Links/urls_login.txt')\n",
    "# Folder_path is the location where screenshots are being saved.\n",
    "folder_path = './Images/Login Pages/'\n",
    "image_login_paths = []\n",
    "i = 0\n",
    "for link in url_file:\n",
    "    file_path = folder_path + str(i) + '.png'\n",
    "    get_screenshot(url=link, path=file_path)\n",
    "    image_login_paths.append(file_path)\n",
    "    i += 1"
   ]
  },
  {
   "cell_type": "code",
   "execution_count": 4,
   "metadata": {},
   "outputs": [],
   "source": [
    "# Getting screenshots of Non-Login pages.\n",
    "\n",
    "url_file = open('./Website Links/urls_non_login.txt')\n",
    "# Folder_path is the location where screenshots are being saved.\n",
    "folder_path = './Images/Non Login Pages/'\n",
    "image_non_login_paths = []\n",
    "i = 0\n",
    "for link in url_file:\n",
    "    file_path = folder_path + str(i) + '.png'\n",
    "    get_screenshot(url=link, path=file_path)\n",
    "    image_non_login_paths.append(file_path)\n",
    "    i += 1"
   ]
  },
  {
   "cell_type": "code",
   "execution_count": 5,
   "metadata": {},
   "outputs": [],
   "source": [
    "# Function to write the path of the images to the corresponding file so that we can use those image paths again and again.\n",
    "# This step is done to avoid the process of taking screenshots everytime we run our program.\n",
    "def write_to_file(file_name, path_list):\n",
    "    with open(file_name, 'w') as myfile:\n",
    "        for path in path_list:\n",
    "            myfile.write(path)\n",
    "            myfile.write('\\n')"
   ]
  },
  {
   "cell_type": "code",
   "execution_count": 6,
   "metadata": {},
   "outputs": [],
   "source": [
    "# Writing the image paths to corresponding files.\n",
    "write_to_file('./Images/Paths/path_login.txt', image_login_paths)\n",
    "write_to_file('./Images/Paths/path_non_login.txt', image_non_login_paths)"
   ]
  }
 ],
 "metadata": {
  "kernelspec": {
   "display_name": "Python 3",
   "language": "python",
   "name": "python3"
  },
  "language_info": {
   "codemirror_mode": {
    "name": "ipython",
    "version": 3
   },
   "file_extension": ".py",
   "mimetype": "text/x-python",
   "name": "python",
   "nbconvert_exporter": "python",
   "pygments_lexer": "ipython3",
   "version": "3.7.1"
  }
 },
 "nbformat": 4,
 "nbformat_minor": 2
}
